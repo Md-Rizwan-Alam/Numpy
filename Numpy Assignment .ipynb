{
 "cells": [
  {
   "cell_type": "markdown",
   "id": "d64234d6-36c8-4dd6-9bf7-4f26059172db",
   "metadata": {},
   "source": [
    "Question: 1. What is a Python library? Why do we use Python libraries?"
   ]
  },
  {
   "cell_type": "markdown",
   "id": "4d76a9e9-acc7-4a96-ba92-b5489826bdf7",
   "metadata": {},
   "source": [
    "Answe: Python library is collection pre written code amd function which we can use in single click. We use python libraries for creating applications and models in a variety of fields, for instance, machine learning, data science, data visualization, image and data manipulation, and many more."
   ]
  },
  {
   "cell_type": "code",
   "execution_count": null,
   "id": "a55abacc-7db5-4db1-94a9-b9d5264e3d87",
   "metadata": {},
   "outputs": [],
   "source": []
  },
  {
   "cell_type": "code",
   "execution_count": null,
   "id": "079f338e-9996-4d99-9e54-3a4758beaa3c",
   "metadata": {},
   "outputs": [],
   "source": []
  },
  {
   "cell_type": "markdown",
   "id": "08870253-97ab-46e8-b941-60fe95ea5460",
   "metadata": {},
   "source": [
    "Question: 2. What is the difference between Numpy array and List?"
   ]
  },
  {
   "cell_type": "markdown",
   "id": "104959e7-f019-4111-bcd5-4e3b1fd6a485",
   "metadata": {},
   "source": [
    "Answer:"
   ]
  },
  {
   "cell_type": "markdown",
   "id": "7c0a135c-976a-46f4-81fe-9fe4cc11b493",
   "metadata": {},
   "source": [
    "Numpy array: Numpy arrays are multidimensional arrays in Python that are used for a wide range of data analysis, visualization, and machine learning tasks. Numpy arrays can be of various data types such as integers, floating-point numbers, complex numbers, and Boolean values. They provide several methods for array operations, such as slicing, reshaping, indexing, and aggregation. Numpy arrays are optimized for performance and are commonly used in scientific computing and data science workflows."
   ]
  },
  {
   "cell_type": "markdown",
   "id": "8be2c989-27a9-47ef-a870-0f73fd0d0450",
   "metadata": {},
   "source": [
    "NumPy arrays are much faster and have strict requirements on the homogeneity of the objects. For example, a NumPy array of strings can only contain strings and no other data types."
   ]
  },
  {
   "cell_type": "code",
   "execution_count": 3,
   "id": "6abb89d7-71e0-436c-ba26-fe5b7ddfcaf1",
   "metadata": {},
   "outputs": [],
   "source": [
    "#Here is an example of creating a simple Numpy array:\n",
    "\n",
    "import numpy as np\n",
    "\n",
    "# create a 2D array of shape (3, 4) with values from 0 to 9\n",
    "arr = (3,4)"
   ]
  },
  {
   "cell_type": "markdown",
   "id": "512d3c1e-9cdd-4a8a-afc1-065d19654a8d",
   "metadata": {},
   "source": [
    "List: Python list can contain a mixture of strings, numbers, booleans and other objects."
   ]
  },
  {
   "cell_type": "code",
   "execution_count": null,
   "id": "686bf9f7-f576-49a8-9d81-15437b2c2f4b",
   "metadata": {},
   "outputs": [],
   "source": []
  },
  {
   "cell_type": "code",
   "execution_count": null,
   "id": "0783a40e-6da2-4493-a710-172f79e0d7be",
   "metadata": {},
   "outputs": [],
   "source": []
  },
  {
   "cell_type": "markdown",
   "id": "b31510e8-a33b-4e57-b186-b5f45738f99d",
   "metadata": {},
   "source": [
    "Question: 3. Find the shape, size and dimension of the following array?\n",
    "[[1, 2, 3, 4]\n",
    "[5, 6, 7, 8],\n",
    "[9, 10, 11, 12]]"
   ]
  },
  {
   "cell_type": "code",
   "execution_count": 5,
   "id": "7fb51324-3ed7-46c9-b050-6420d14a96f4",
   "metadata": {},
   "outputs": [
    {
     "name": "stdout",
     "output_type": "stream",
     "text": [
      "Shape of the array: (3, 4)\n",
      "Size of the array: 12\n",
      "Dimension of the array: 2\n"
     ]
    }
   ],
   "source": [
    "#Answer\n",
    "\n",
    "\n",
    "import numpy as np\n",
    "\n",
    "\n",
    "my_array = np.array([[1, 2, 3, 4],\n",
    "                    [5, 6, 7, 8],\n",
    "                    [9, 10, 11, 12]])\n",
    "\n",
    "\n",
    "shape_of_array = my_array.shape\n",
    "\n",
    "\n",
    "size_of_array = my_array.size\n",
    "\n",
    "\n",
    "dimension_of_array = my_array.ndim\n",
    "\n",
    "\n",
    "print(\"Shape of the array:\", shape_of_array)\n",
    "print(\"Size of the array:\", size_of_array)\n",
    "print(\"Dimension of the array:\", dimension_of_array)\n"
   ]
  },
  {
   "cell_type": "code",
   "execution_count": null,
   "id": "447806f4-bdc6-4244-abb3-b49ca880ae3d",
   "metadata": {},
   "outputs": [],
   "source": []
  },
  {
   "cell_type": "code",
   "execution_count": null,
   "id": "44a71283-01e3-4bfb-9383-8ef44a85d0d9",
   "metadata": {},
   "outputs": [],
   "source": []
  },
  {
   "cell_type": "markdown",
   "id": "3daba4bd-2487-4e56-a2ba-fb62ba0fc5d7",
   "metadata": {},
   "source": [
    "Question: 4. Write python code to access the first row of the following array?\n",
    "[[1, 2, 3, 4]\n",
    "[5, 6, 7, 8],\n",
    "[9, 10, 11, 12]]"
   ]
  },
  {
   "cell_type": "code",
   "execution_count": 6,
   "id": "c1a2cc90-6b4b-4e0f-abe1-f3a76dfe12a3",
   "metadata": {},
   "outputs": [],
   "source": [
    "#Answer\n",
    "\n",
    "\n",
    "import numpy as np\n",
    "\n",
    "\n",
    "my_array = np.array([[1, 2, 3, 4],\n",
    "                    [5, 6, 7, 8],\n",
    "                    [9, 10, 11, 12]])\n",
    "\n",
    "\n",
    "first_row = my_array[0, :]\n"
   ]
  },
  {
   "cell_type": "code",
   "execution_count": 7,
   "id": "c44b4873-1f58-4cae-9222-68147d99bf40",
   "metadata": {},
   "outputs": [
    {
     "name": "stdout",
     "output_type": "stream",
     "text": [
      "First row of the array: [1 2 3 4]\n"
     ]
    }
   ],
   "source": [
    "print(\"First row of the array:\", first_row)"
   ]
  },
  {
   "cell_type": "code",
   "execution_count": null,
   "id": "9e4d91a2-281a-4fb8-863b-94b8bbaedd16",
   "metadata": {},
   "outputs": [],
   "source": []
  },
  {
   "cell_type": "code",
   "execution_count": null,
   "id": "f8079082-096a-422c-9f10-8e086fc06d67",
   "metadata": {},
   "outputs": [],
   "source": []
  },
  {
   "cell_type": "markdown",
   "id": "b27ef5a5-e3f7-4b61-b6c1-39c1cb85bbf6",
   "metadata": {},
   "source": [
    "Question: 5. How do you access the element at the third row and fourth column from the given numpy array?\n",
    "[[1, 2, 3, 4]\n",
    "[5, 6, 7, 8],\n",
    "[9, 10, 11, 12]]"
   ]
  },
  {
   "cell_type": "code",
   "execution_count": 9,
   "id": "a1d9454d-22e6-43a7-b50d-4010233e18b2",
   "metadata": {},
   "outputs": [],
   "source": [
    "#Answer\n",
    "\n",
    "import numpy as np\n"
   ]
  },
  {
   "cell_type": "code",
   "execution_count": 10,
   "id": "3b2f17fc-3e89-4099-84fc-5f7780ff66a1",
   "metadata": {},
   "outputs": [],
   "source": [
    "my_array = np.array([[1, 2, 3, 4],\n",
    "                    [5, 6, 7, 8],\n",
    "                    [9, 10, 11, 12]])\n",
    "\n",
    "\n",
    "element = my_array[2, 3]"
   ]
  },
  {
   "cell_type": "code",
   "execution_count": 11,
   "id": "e90567f7-6620-4a9d-ada1-8e2c5ee8afb7",
   "metadata": {},
   "outputs": [
    {
     "name": "stdout",
     "output_type": "stream",
     "text": [
      "Element at the third row and fourth column: 12\n"
     ]
    }
   ],
   "source": [
    "print(\"Element at the third row and fourth column:\", element)"
   ]
  },
  {
   "cell_type": "code",
   "execution_count": null,
   "id": "74e6da54-a4c1-4d58-9e66-5e0f801b22a8",
   "metadata": {},
   "outputs": [],
   "source": []
  },
  {
   "cell_type": "code",
   "execution_count": null,
   "id": "84ec05bc-f853-4588-bd6b-c8e30d88144b",
   "metadata": {},
   "outputs": [],
   "source": []
  },
  {
   "cell_type": "markdown",
   "id": "141d863e-4357-43d2-85f3-8a074f742c51",
   "metadata": {},
   "source": [
    "Question: 6. Write code to extract all odd-indexed elements from the given numpy array?\n",
    "[[1, 2, 3, 4]\n",
    "[5, 6, 7, 8],\n",
    "[9, 10, 11, 12]]"
   ]
  },
  {
   "cell_type": "code",
   "execution_count": 12,
   "id": "e342bbba-aede-4a8c-a445-f71c10908e9a",
   "metadata": {},
   "outputs": [],
   "source": [
    "#Answer\n",
    "\n",
    "import numpy as np"
   ]
  },
  {
   "cell_type": "code",
   "execution_count": 13,
   "id": "1c24961e-c47e-408c-8880-b2da77ca00a2",
   "metadata": {},
   "outputs": [],
   "source": [
    "my_array = np.array([[1, 2, 3, 4],\n",
    "                     [5, 6, 7, 8],\n",
    "                     [9, 10, 11, 12]])\n",
    "\n",
    "odd_indexed_elements = my_array[:, 1::2]\n"
   ]
  },
  {
   "cell_type": "code",
   "execution_count": 14,
   "id": "00af1bf3-b82a-4dc0-b1d0-0f90e126281c",
   "metadata": {},
   "outputs": [
    {
     "name": "stdout",
     "output_type": "stream",
     "text": [
      "Odd-indexed elements: [ 2  4  6  8 10 12]\n"
     ]
    }
   ],
   "source": [
    "print(\"Odd-indexed elements:\", odd_indexed_elements.flatten())"
   ]
  },
  {
   "cell_type": "code",
   "execution_count": null,
   "id": "666ac2a3-7f80-4198-a6bf-157af90b26e8",
   "metadata": {},
   "outputs": [],
   "source": []
  },
  {
   "cell_type": "code",
   "execution_count": null,
   "id": "8ac85557-5a1f-4d39-8616-657e853d79e3",
   "metadata": {},
   "outputs": [],
   "source": []
  },
  {
   "cell_type": "markdown",
   "id": "ddb064cc-3e8d-452e-b0fa-70d7659d6e88",
   "metadata": {},
   "source": [
    "Question: 7. How can you generate a random 3x3 matrix with values between 0 and 1?"
   ]
  },
  {
   "cell_type": "code",
   "execution_count": 17,
   "id": "a906be1d-d38a-4017-a5bd-763428eb8f0c",
   "metadata": {},
   "outputs": [],
   "source": [
    "#Answer\n",
    "\n",
    "import numpy as np\n"
   ]
  },
  {
   "cell_type": "code",
   "execution_count": 18,
   "id": "c30fdcd8-c27f-4024-8406-1eed5919825a",
   "metadata": {},
   "outputs": [],
   "source": [
    "random_matrix = np.random.rand(3, 3)\n"
   ]
  },
  {
   "cell_type": "code",
   "execution_count": 19,
   "id": "8443ab1c-658f-4323-bccc-6fe7576edd57",
   "metadata": {},
   "outputs": [
    {
     "name": "stdout",
     "output_type": "stream",
     "text": [
      "Random 3x3 matrix with values between 0 and 1:\n",
      " [[0.53944344 0.50548786 0.09229335]\n",
      " [0.65411035 0.32743631 0.83654992]\n",
      " [0.3020603  0.48543343 0.25088795]]\n"
     ]
    }
   ],
   "source": [
    "print(\"Random 3x3 matrix with values between 0 and 1:\\n\", random_matrix)"
   ]
  },
  {
   "cell_type": "code",
   "execution_count": null,
   "id": "759c25ad-70db-4436-b2cf-bdf3d0819c5d",
   "metadata": {},
   "outputs": [],
   "source": []
  },
  {
   "cell_type": "code",
   "execution_count": null,
   "id": "7509c89a-0785-4f22-b437-8b158d55b9d6",
   "metadata": {},
   "outputs": [],
   "source": []
  },
  {
   "cell_type": "markdown",
   "id": "28a8bd50-7509-46c5-801d-10961d218edb",
   "metadata": {},
   "source": [
    "Question: 8. Describe the difference between np.random.rand and np.random.randn?"
   ]
  },
  {
   "cell_type": "code",
   "execution_count": 22,
   "id": "4cdca83d-5881-4848-afb1-5fce49cfd5d1",
   "metadata": {},
   "outputs": [],
   "source": [
    "#Answer\n",
    "\n",
    "#np.random.rand\n",
    "\n",
    "import numpy as np\n"
   ]
  },
  {
   "cell_type": "code",
   "execution_count": 21,
   "id": "b11ca686-4d25-4575-927d-0cdf5c4530ca",
   "metadata": {},
   "outputs": [],
   "source": [
    "random_numbers = np.random.rand(2, 3) "
   ]
  },
  {
   "cell_type": "code",
   "execution_count": 26,
   "id": "aaacf7c8-269b-4d44-9106-8383d1a9e3ad",
   "metadata": {},
   "outputs": [],
   "source": [
    "# Generates a 2x3 array of random numbers between 0 and 1"
   ]
  },
  {
   "cell_type": "code",
   "execution_count": 23,
   "id": "99d843c5-af05-4f7a-9504-3584705877bc",
   "metadata": {},
   "outputs": [],
   "source": [
    "#np.random.rand\n",
    "\n",
    "import numpy as np \n"
   ]
  },
  {
   "cell_type": "code",
   "execution_count": 24,
   "id": "1b58778c-68f7-438f-9f9d-d548cb8a1408",
   "metadata": {},
   "outputs": [],
   "source": [
    "random_numbers = np.random.randn(2, 3) "
   ]
  },
  {
   "cell_type": "code",
   "execution_count": 25,
   "id": "ec81f62b-909d-410d-9973-585d353b2b13",
   "metadata": {},
   "outputs": [],
   "source": [
    "# Generates a 2x3 array of random numbers from a standard normal distribution"
   ]
  },
  {
   "cell_type": "code",
   "execution_count": null,
   "id": "2f060340-d3d1-4ad7-b990-a874228c7ab7",
   "metadata": {},
   "outputs": [],
   "source": []
  },
  {
   "cell_type": "code",
   "execution_count": null,
   "id": "cfcd6404-65fb-4fe4-8f3a-ca5005bbb277",
   "metadata": {},
   "outputs": [],
   "source": []
  },
  {
   "cell_type": "markdown",
   "id": "15515bb3-11d6-402e-a47a-7ea7412840f7",
   "metadata": {},
   "source": [
    "Question: 9. Write code to increase the dimension of the following array?\n",
    "[[1, 2, 3, 4]\n",
    "[5, 6, 7, 8],\n",
    "[9, 10, 11, 12]]"
   ]
  },
  {
   "cell_type": "code",
   "execution_count": 27,
   "id": "edaec516-9ce7-4860-8aa4-4049a2b4a65d",
   "metadata": {},
   "outputs": [],
   "source": [
    "#Answer\n",
    "\n",
    "\n",
    "import numpy as np"
   ]
  },
  {
   "cell_type": "code",
   "execution_count": 28,
   "id": "1761f0cf-214b-47d9-b2d5-d0119b6afacf",
   "metadata": {},
   "outputs": [],
   "source": [
    "original_array = np.array([[1, 2, 3, 4],\n",
    "                           [5, 6, 7, 8],\n",
    "                           [9, 10, 11, 12]])\n",
    "\n",
    "\n",
    "increased_dimension_array = original_array[:, :, np.newaxis]\n"
   ]
  },
  {
   "cell_type": "code",
   "execution_count": 29,
   "id": "611b66d3-9b2f-4cba-8148-05fd436fb8e1",
   "metadata": {},
   "outputs": [
    {
     "name": "stdout",
     "output_type": "stream",
     "text": [
      "Original Array:\n",
      " [[ 1  2  3  4]\n",
      " [ 5  6  7  8]\n",
      " [ 9 10 11 12]]\n",
      "\n",
      "Array with Increased Dimension:\n",
      " [[[ 1]\n",
      "  [ 2]\n",
      "  [ 3]\n",
      "  [ 4]]\n",
      "\n",
      " [[ 5]\n",
      "  [ 6]\n",
      "  [ 7]\n",
      "  [ 8]]\n",
      "\n",
      " [[ 9]\n",
      "  [10]\n",
      "  [11]\n",
      "  [12]]]\n"
     ]
    }
   ],
   "source": [
    "print(\"Original Array:\\n\", original_array)\n",
    "print(\"\\nArray with Increased Dimension:\\n\", increased_dimension_array)"
   ]
  },
  {
   "cell_type": "code",
   "execution_count": null,
   "id": "8d534b44-ecd2-44fd-bdb9-88e6cde9e98d",
   "metadata": {},
   "outputs": [],
   "source": []
  },
  {
   "cell_type": "code",
   "execution_count": null,
   "id": "348fd00b-6fa9-4620-9c4a-ecdfa7895b7a",
   "metadata": {},
   "outputs": [],
   "source": []
  },
  {
   "cell_type": "markdown",
   "id": "58d2d0f3-a701-4245-900d-9803b4c64143",
   "metadata": {},
   "source": [
    "Question: 10. How to transpose the following array in NumPy?\n",
    "[[1, 2, 3, 4]\n",
    "[5, 6, 7, 8],\n",
    "[9, 10, 11, 12]]\n",
    "\n",
    "\n",
    "Perform the following operation using Python1\n",
    "1. Index wise multiplication\n",
    "2. Matrix multiplication\n",
    "3. Add both the matics\n",
    "4. Subtract matrix B from A\n",
    "5. Divide Matrix B by A"
   ]
  },
  {
   "cell_type": "code",
   "execution_count": 3,
   "id": "928b4676-dcd3-4315-80d2-75ef2cdba517",
   "metadata": {},
   "outputs": [],
   "source": [
    "#Answer\n",
    "\n",
    "import numpy as np\n"
   ]
  },
  {
   "cell_type": "code",
   "execution_count": 31,
   "id": "db134160-8ce2-4878-ae4a-b7b637f23689",
   "metadata": {},
   "outputs": [],
   "source": [
    "original_array = np.array([[1, 2, 3, 4],\n",
    "                           [5, 6, 7, 8],\n",
    "                           [9, 10, 11, 12]])\n",
    "\n",
    "\n",
    "transposed_array_1 = original_array.T\n",
    "\n",
    "transposed_array_2 = np.transpose(original_array)"
   ]
  },
  {
   "cell_type": "code",
   "execution_count": 32,
   "id": "c367147a-f656-4b62-9d22-2e3dff2bb2a3",
   "metadata": {},
   "outputs": [
    {
     "name": "stdout",
     "output_type": "stream",
     "text": [
      "Original Array:\n",
      " [[ 1  2  3  4]\n",
      " [ 5  6  7  8]\n",
      " [ 9 10 11 12]]\n",
      "\n",
      "Transposed Array (using .T attribute):\n",
      " [[ 1  5  9]\n",
      " [ 2  6 10]\n",
      " [ 3  7 11]\n",
      " [ 4  8 12]]\n",
      "\n",
      "Transposed Array (using np.transpose() function):\n",
      " [[ 1  5  9]\n",
      " [ 2  6 10]\n",
      " [ 3  7 11]\n",
      " [ 4  8 12]]\n"
     ]
    }
   ],
   "source": [
    "print(\"Original Array:\\n\", original_array)\n",
    "print(\"\\nTransposed Array (using .T attribute):\\n\", transposed_array_1)\n",
    "print(\"\\nTransposed Array (using np.transpose() function):\\n\", transposed_array_2)"
   ]
  },
  {
   "cell_type": "code",
   "execution_count": 2,
   "id": "4c468bbe-4d31-415d-92a6-f9c36d834e0c",
   "metadata": {},
   "outputs": [
    {
     "name": "stdout",
     "output_type": "stream",
     "text": [
      "Index wise multiplication:\n",
      "[[  1   4   9  16]\n",
      " [ 25  36  49  64]\n",
      " [ 81 100 121 144]]\n",
      "\n",
      "Matrix multiplication:\n",
      "[[ 30  70 110]\n",
      " [ 70 174 278]\n",
      " [110 278 446]]\n",
      "\n",
      "Matrix addition:\n",
      "[[ 2  4  6  8]\n",
      " [10 12 14 16]\n",
      " [18 20 22 24]]\n",
      "\n",
      "Matrix subtraction (A - B):\n",
      "[[0 0 0 0]\n",
      " [0 0 0 0]\n",
      " [0 0 0 0]]\n",
      "\n",
      "Matrix division (B / A):\n",
      "[[1. 1. 1. 1.]\n",
      " [1. 1. 1. 1.]\n",
      " [1. 1. 1. 1.]]\n"
     ]
    }
   ],
   "source": [
    "import numpy as np\n",
    "\n",
    "# Define matrices A and B\n",
    "A = np.array([[1, 2, 3, 4], [5, 6, 7, 8], [9, 10, 11, 12]])\n",
    "B = np.array([[1, 2, 3, 4], [5, 6, 7, 8], [9, 10, 11, 12]])\n",
    "\n",
    "# 1. Index wise multiplication\n",
    "index_wise_multiplication = A * B\n",
    "print(\"Index wise multiplication:\")\n",
    "print(index_wise_multiplication)\n",
    "\n",
    "# 2. Matrix multiplication\n",
    "matrix_multiplication = np.dot(A, B.T)  \n",
    "print(\"\\nMatrix multiplication:\")\n",
    "print(matrix_multiplication)\n",
    "\n",
    "# 3. Add both the matrices\n",
    "matrix_addition = A + B\n",
    "print(\"\\nMatrix addition:\")\n",
    "print(matrix_addition)\n",
    "\n",
    "# 4. Subtract matrix B from A\n",
    "matrix_subtraction = A - B\n",
    "print(\"\\nMatrix subtraction (A - B):\")\n",
    "print(matrix_subtraction)\n",
    "\n",
    "# 5. Divide Matrix B by A\n",
    "matrix_division = np.divide(B, A)\n",
    "print(\"\\nMatrix division (B / A):\")\n",
    "print(matrix_division)\n"
   ]
  },
  {
   "cell_type": "code",
   "execution_count": null,
   "id": "347997a1-81a5-42c1-b773-7ff03e1ac17b",
   "metadata": {},
   "outputs": [],
   "source": []
  },
  {
   "cell_type": "code",
   "execution_count": null,
   "id": "c2c36b0f-20d0-401c-8f98-d76bf1a8381f",
   "metadata": {},
   "outputs": [],
   "source": []
  },
  {
   "cell_type": "markdown",
   "id": "2247a5a5-083c-4c23-8b49-6cb59da8c12c",
   "metadata": {},
   "source": [
    "Question 12. Which function in Numpy can be used to swap the byte order of an array?"
   ]
  },
  {
   "cell_type": "markdown",
   "id": "58d19e9b-2c2e-4971-bbed-2e27efa5fb3c",
   "metadata": {},
   "source": [
    "Asnwer\n",
    "\n",
    "\n",
    "In NumPy, the function np.ndarray.byteswap() can be used to swap the byte order of an array. "
   ]
  },
  {
   "cell_type": "code",
   "execution_count": 12,
   "id": "0ab20fd9-977c-4dba-a860-9cc40a3722fb",
   "metadata": {},
   "outputs": [
    {
     "name": "stdout",
     "output_type": "stream",
     "text": [
      "Original array:\n",
      "[1 2 3 4]\n",
      "\n",
      "Array after byte swapping:\n",
      "[ 256  512  768 1024]\n"
     ]
    }
   ],
   "source": [
    "import numpy as np\n",
    "\n",
    "arr = np.array([1, 2, 3, 4], dtype=np.int16)\n",
    "\n",
    "print(\"Original array:\")\n",
    "print(arr)\n",
    "\n",
    "arr.byteswap(True)\n",
    "\n",
    "print(\"\\nArray after byte swapping:\")\n",
    "print(arr)\n"
   ]
  },
  {
   "cell_type": "code",
   "execution_count": null,
   "id": "b9329573-f044-4cd9-bfb6-ebd9e730b22a",
   "metadata": {},
   "outputs": [],
   "source": []
  },
  {
   "cell_type": "code",
   "execution_count": null,
   "id": "f6b58480-acb9-4757-8d14-b08cdcc2a845",
   "metadata": {},
   "outputs": [],
   "source": []
  },
  {
   "cell_type": "markdown",
   "id": "0af2c17c-ce1f-442a-bcc9-4bc2472bd6d3",
   "metadata": {},
   "source": [
    "Question 13. What is the significance of the np.linalg.inv function?"
   ]
  },
  {
   "cell_type": "markdown",
   "id": "43e0b184-997a-4330-8211-614aaeeedfdd",
   "metadata": {},
   "source": [
    "Answer\n",
    "\n",
    "\n",
    "The np.linalg.inv function in NumPy is used to compute the multiplicative inverse of a matrix. "
   ]
  },
  {
   "cell_type": "code",
   "execution_count": 13,
   "id": "0e785ce1-85bf-4e41-9f68-de8ab5221bde",
   "metadata": {},
   "outputs": [
    {
     "name": "stdout",
     "output_type": "stream",
     "text": [
      "Original Matrix:\n",
      "[[1 2]\n",
      " [3 4]]\n",
      "\n",
      "Inverse of the Matrix:\n",
      "[[-2.   1. ]\n",
      " [ 1.5 -0.5]]\n"
     ]
    }
   ],
   "source": [
    "import numpy as np\n",
    "\n",
    "A = np.array([[1, 2], [3, 4]])\n",
    "\n",
    "A_inv = np.linalg.inv(A)\n",
    "\n",
    "print(\"Original Matrix:\")\n",
    "print(A)\n",
    "print(\"\\nInverse of the Matrix:\")\n",
    "print(A_inv)\n"
   ]
  },
  {
   "cell_type": "code",
   "execution_count": null,
   "id": "34f64d63-811b-4d52-a975-3a982eb6388d",
   "metadata": {},
   "outputs": [],
   "source": []
  },
  {
   "cell_type": "code",
   "execution_count": null,
   "id": "0a1ac11c-dab7-4369-acb2-6b6521a7cc43",
   "metadata": {},
   "outputs": [],
   "source": []
  },
  {
   "cell_type": "markdown",
   "id": "8b7c9df4-4657-4a2d-bbe4-142b67a4504a",
   "metadata": {},
   "source": [
    "Question 14. What does the np.reshape function do, and how is it used?"
   ]
  },
  {
   "cell_type": "markdown",
   "id": "9ec32227-d1bf-4a37-9f1f-57641d168c22",
   "metadata": {},
   "source": [
    "Answer\n",
    "\n",
    "The np.reshape function in NumPy is used to change the shape (dimensions) of an array while maintaining the same elements."
   ]
  },
  {
   "cell_type": "code",
   "execution_count": 10,
   "id": "d81a4d21-d2aa-4c6b-b63c-5d9abd105111",
   "metadata": {},
   "outputs": [
    {
     "name": "stdout",
     "output_type": "stream",
     "text": [
      "[[1 2 3]\n",
      " [4 5 6]]\n"
     ]
    }
   ],
   "source": [
    "import numpy as np\n",
    "\n",
    "\n",
    "arr = np.array([1, 2, 3, 4, 5, 6])\n",
    "\n",
    "reshaped_arr = np.reshape(arr, (2, 3))\n",
    "\n",
    "print(reshaped_arr)\n"
   ]
  },
  {
   "cell_type": "code",
   "execution_count": null,
   "id": "8382d6b9-3156-4b0f-a7a7-6dcb4857c781",
   "metadata": {},
   "outputs": [],
   "source": []
  },
  {
   "cell_type": "code",
   "execution_count": null,
   "id": "bf739c57-3ac1-46ac-9e07-c8a57b077584",
   "metadata": {},
   "outputs": [],
   "source": []
  },
  {
   "cell_type": "markdown",
   "id": "610d4abb-f7f2-4ee1-9219-c61172be71e8",
   "metadata": {},
   "source": [
    "Question 15. What is broadcasting in Numpy?"
   ]
  },
  {
   "cell_type": "markdown",
   "id": "505557d0-8341-4a67-83a0-9587e55adb07",
   "metadata": {},
   "source": [
    "Answer\n",
    "\n",
    "Broadcasting in NumPy is a powerful mechanism that allows us to perform operations on arrays of different shapes. This is done by automatically expanding the smaller array to match the dimensions of the larger array."
   ]
  },
  {
   "cell_type": "code",
   "execution_count": 11,
   "id": "7bdbfa6a-0f7e-4566-9127-138f845ffb5c",
   "metadata": {},
   "outputs": [
    {
     "name": "stdout",
     "output_type": "stream",
     "text": [
      "[[11 13 15]\n",
      " [14 16 18]\n",
      " [17 19 21]]\n"
     ]
    }
   ],
   "source": [
    "import numpy as np\n",
    "\n",
    "a = np.array([[1, 2, 3],\n",
    "              [4, 5, 6],\n",
    "              [7, 8, 9]])\n",
    "\n",
    "b = np.array([10, 11, 12])\n",
    "\n",
    "result = a + b\n",
    "\n",
    "print(result)\n"
   ]
  }
 ],
 "metadata": {
  "kernelspec": {
   "display_name": "Python 3 (ipykernel)",
   "language": "python",
   "name": "python3"
  },
  "language_info": {
   "codemirror_mode": {
    "name": "ipython",
    "version": 3
   },
   "file_extension": ".py",
   "mimetype": "text/x-python",
   "name": "python",
   "nbconvert_exporter": "python",
   "pygments_lexer": "ipython3",
   "version": "3.10.8"
  }
 },
 "nbformat": 4,
 "nbformat_minor": 5
}
